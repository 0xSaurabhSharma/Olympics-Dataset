{
 "cells": [
  {
   "cell_type": "code",
   "execution_count": 116,
   "metadata": {},
   "outputs": [],
   "source": [
    "import requests\n",
    "import pandas as pd\n",
    "from bs4 import BeautifulSoup\n",
    "from athletes import parse_athlete\n",
    "from io import StringIO\n",
    "import time\n",
    "import random\n",
    "\n",
    "\n",
    "def get_athlete_dict(soup):\n",
    "    table = soup.find(\"table\", {\"class\": \"biodata\"})\n",
    "    df = pd.read_html(StringIO(str(table)), index_col=0, dtype_backend=\"pyarrow\")[0]\n",
    "\n",
    "    return df.T\n",
    "\n",
    "\n",
    "def get_athlete_results(soup, id):\n",
    "    table = soup.find(\"table\", {\"class\": \"table\"})\n",
    "\n",
    "    df = pd.read_html(StringIO(str(table)))[0]\n",
    "\n",
    "    # Assigning new columns based on the row index (even or odd)\n",
    "    df['Discipline (Sport)'] = df.loc[df.index % 2 == 0, 'Discipline (Sport) / Event']\n",
    "    df['Event'] = df.loc[df.index % 2 == 1, 'Discipline (Sport) / Event']\n",
    "\n",
    "    # Drop the original 'Discipline (Sport) / Event' column as it's now redundant\n",
    "    df.drop(columns=['Discipline (Sport) / Event'], inplace=True)\n",
    "\n",
    "    # Group the DataFrame by each pair of rows and apply forward fill within each group\n",
    "    grouped = (df.groupby(df.index // 2, as_index=False)\n",
    "            .apply(lambda x: x.ffill().bfill())\n",
    "            .reset_index(drop=True))\n",
    "\n",
    "    # Now, drop every odd row as each pair's information is consolidated into the even-indexed rows\n",
    "    final_df = grouped[grouped.index % 2 == 0].reset_index(drop=True)\n",
    "\n",
    "    columns = ['Games', 'NOC / Team', 'Pos', 'Medal', 'As', 'Discipline (Sport)', 'Event']\n",
    "    return final_df[columns]\n",
    "    "
   ]
  },
  {
   "cell_type": "code",
   "execution_count": 121,
   "metadata": {},
   "outputs": [],
   "source": [
    "response = requests.get(\"https://www.olympedia.org/athletes/10000\", timeout=60)\n",
    "soup = BeautifulSoup(response.content, \"html.parser\")\n",
    "\n"
   ]
  },
  {
   "cell_type": "code",
   "execution_count": 122,
   "metadata": {},
   "outputs": [
    {
     "data": {
      "text/html": [
       "<div>\n",
       "<style scoped>\n",
       "    .dataframe tbody tr th:only-of-type {\n",
       "        vertical-align: middle;\n",
       "    }\n",
       "\n",
       "    .dataframe tbody tr th {\n",
       "        vertical-align: top;\n",
       "    }\n",
       "\n",
       "    .dataframe thead th {\n",
       "        text-align: right;\n",
       "    }\n",
       "</style>\n",
       "<table border=\"1\" class=\"dataframe\">\n",
       "  <thead>\n",
       "    <tr style=\"text-align: right;\">\n",
       "      <th></th>\n",
       "      <th>Games</th>\n",
       "      <th>Discipline (Sport) / Event</th>\n",
       "      <th>NOC / Team</th>\n",
       "      <th>Pos</th>\n",
       "      <th>Medal</th>\n",
       "      <th>As</th>\n",
       "      <th>Unnamed: 6</th>\n",
       "    </tr>\n",
       "  </thead>\n",
       "  <tbody>\n",
       "    <tr>\n",
       "      <th>0</th>\n",
       "      <td>1988 Summer Olympics</td>\n",
       "      <td>Canoe Sprint (Canoeing)</td>\n",
       "      <td>GDR</td>\n",
       "      <td>NaN</td>\n",
       "      <td>NaN</td>\n",
       "      <td>André Wohllebe</td>\n",
       "      <td>NaN</td>\n",
       "    </tr>\n",
       "    <tr>\n",
       "      <th>1</th>\n",
       "      <td>NaN</td>\n",
       "      <td>Kayak Singles, 1,000 metres, Men (Olympic)</td>\n",
       "      <td>NaN</td>\n",
       "      <td>3.0</td>\n",
       "      <td>Bronze</td>\n",
       "      <td>NaN</td>\n",
       "      <td>NaN</td>\n",
       "    </tr>\n",
       "    <tr>\n",
       "      <th>2</th>\n",
       "      <td>NaN</td>\n",
       "      <td>Kayak Doubles, 500 metres, Men (Olympic)</td>\n",
       "      <td>Kay Bluhm</td>\n",
       "      <td>7.0</td>\n",
       "      <td>NaN</td>\n",
       "      <td>NaN</td>\n",
       "      <td>NaN</td>\n",
       "    </tr>\n",
       "    <tr>\n",
       "      <th>3</th>\n",
       "      <td>NaN</td>\n",
       "      <td>Kayak Fours, 1,000 metres, Men (Olympic)</td>\n",
       "      <td>East Germany</td>\n",
       "      <td>3.0</td>\n",
       "      <td>Bronze</td>\n",
       "      <td>NaN</td>\n",
       "      <td>NaN</td>\n",
       "    </tr>\n",
       "    <tr>\n",
       "      <th>4</th>\n",
       "      <td>1992 Summer Olympics</td>\n",
       "      <td>Canoe Sprint (Canoeing)</td>\n",
       "      <td>GER</td>\n",
       "      <td>NaN</td>\n",
       "      <td>NaN</td>\n",
       "      <td>André Wohllebe</td>\n",
       "      <td>NaN</td>\n",
       "    </tr>\n",
       "    <tr>\n",
       "      <th>5</th>\n",
       "      <td>NaN</td>\n",
       "      <td>Kayak Fours, 1,000 metres, Men (Olympic)</td>\n",
       "      <td>Germany</td>\n",
       "      <td>1.0</td>\n",
       "      <td>Gold</td>\n",
       "      <td>NaN</td>\n",
       "      <td>NaN</td>\n",
       "    </tr>\n",
       "  </tbody>\n",
       "</table>\n",
       "</div>"
      ],
      "text/plain": [
       "                  Games                  Discipline (Sport) / Event  \\\n",
       "0  1988 Summer Olympics                     Canoe Sprint (Canoeing)   \n",
       "1                   NaN  Kayak Singles, 1,000 metres, Men (Olympic)   \n",
       "2                   NaN    Kayak Doubles, 500 metres, Men (Olympic)   \n",
       "3                   NaN    Kayak Fours, 1,000 metres, Men (Olympic)   \n",
       "4  1992 Summer Olympics                     Canoe Sprint (Canoeing)   \n",
       "5                   NaN    Kayak Fours, 1,000 metres, Men (Olympic)   \n",
       "\n",
       "     NOC / Team  Pos   Medal              As  Unnamed: 6  \n",
       "0           GDR  NaN     NaN  André Wohllebe         NaN  \n",
       "1           NaN  3.0  Bronze             NaN         NaN  \n",
       "2     Kay Bluhm  7.0     NaN             NaN         NaN  \n",
       "3  East Germany  3.0  Bronze             NaN         NaN  \n",
       "4           GER  NaN     NaN  André Wohllebe         NaN  \n",
       "5       Germany  1.0    Gold             NaN         NaN  "
      ]
     },
     "execution_count": 122,
     "metadata": {},
     "output_type": "execute_result"
    }
   ],
   "source": [
    "table = get_athlete_results(soup)\n",
    "\n",
    "table.head(10)"
   ]
  },
  {
   "cell_type": "code",
   "execution_count": 103,
   "metadata": {},
   "outputs": [
    {
     "name": "stdout",
     "output_type": "stream",
     "text": [
      "1\n"
     ]
    },
    {
     "name": "stderr",
     "output_type": "stream",
     "text": [
      "/var/folders/rz/zcgcqm0x1bl9cj8slq9l2s1c0000gn/T/ipykernel_79881/2565139790.py:22: FutureWarning: The behavior of DataFrame concatenation with empty or all-NA entries is deprecated. In a future version, this will no longer exclude empty or all-NA columns when determining the result dtypes. To retain the old behavior, exclude the relevant entries before the concat operation.\n",
      "  output = pd.concat([output,df])\n",
      "/var/folders/rz/zcgcqm0x1bl9cj8slq9l2s1c0000gn/T/ipykernel_79881/1277882565.py:31: FutureWarning: Downcasting object dtype arrays on .fillna, .ffill, .bfill is deprecated and will change in a future version. Call result.infer_objects(copy=False) instead. To opt-in to the future behavior, set `pd.set_option('future.no_silent_downcasting', True)`\n",
      "  .apply(lambda x: x.ffill().bfill())\n"
     ]
    },
    {
     "name": "stdout",
     "output_type": "stream",
     "text": [
      "2\n"
     ]
    },
    {
     "name": "stderr",
     "output_type": "stream",
     "text": [
      "/var/folders/rz/zcgcqm0x1bl9cj8slq9l2s1c0000gn/T/ipykernel_79881/1277882565.py:31: FutureWarning: Downcasting object dtype arrays on .fillna, .ffill, .bfill is deprecated and will change in a future version. Call result.infer_objects(copy=False) instead. To opt-in to the future behavior, set `pd.set_option('future.no_silent_downcasting', True)`\n",
      "  .apply(lambda x: x.ffill().bfill())\n"
     ]
    },
    {
     "name": "stdout",
     "output_type": "stream",
     "text": [
      "3\n"
     ]
    },
    {
     "name": "stderr",
     "output_type": "stream",
     "text": [
      "/var/folders/rz/zcgcqm0x1bl9cj8slq9l2s1c0000gn/T/ipykernel_79881/1277882565.py:31: FutureWarning: Downcasting object dtype arrays on .fillna, .ffill, .bfill is deprecated and will change in a future version. Call result.infer_objects(copy=False) instead. To opt-in to the future behavior, set `pd.set_option('future.no_silent_downcasting', True)`\n",
      "  .apply(lambda x: x.ffill().bfill())\n"
     ]
    },
    {
     "name": "stdout",
     "output_type": "stream",
     "text": [
      "4\n"
     ]
    },
    {
     "name": "stderr",
     "output_type": "stream",
     "text": [
      "/var/folders/rz/zcgcqm0x1bl9cj8slq9l2s1c0000gn/T/ipykernel_79881/1277882565.py:31: FutureWarning: Downcasting object dtype arrays on .fillna, .ffill, .bfill is deprecated and will change in a future version. Call result.infer_objects(copy=False) instead. To opt-in to the future behavior, set `pd.set_option('future.no_silent_downcasting', True)`\n",
      "  .apply(lambda x: x.ffill().bfill())\n"
     ]
    },
    {
     "name": "stdout",
     "output_type": "stream",
     "text": [
      "5\n"
     ]
    },
    {
     "name": "stderr",
     "output_type": "stream",
     "text": [
      "/var/folders/rz/zcgcqm0x1bl9cj8slq9l2s1c0000gn/T/ipykernel_79881/1277882565.py:31: FutureWarning: Downcasting object dtype arrays on .fillna, .ffill, .bfill is deprecated and will change in a future version. Call result.infer_objects(copy=False) instead. To opt-in to the future behavior, set `pd.set_option('future.no_silent_downcasting', True)`\n",
      "  .apply(lambda x: x.ffill().bfill())\n"
     ]
    },
    {
     "name": "stdout",
     "output_type": "stream",
     "text": [
      "6\n"
     ]
    },
    {
     "name": "stderr",
     "output_type": "stream",
     "text": [
      "/var/folders/rz/zcgcqm0x1bl9cj8slq9l2s1c0000gn/T/ipykernel_79881/1277882565.py:31: FutureWarning: Downcasting object dtype arrays on .fillna, .ffill, .bfill is deprecated and will change in a future version. Call result.infer_objects(copy=False) instead. To opt-in to the future behavior, set `pd.set_option('future.no_silent_downcasting', True)`\n",
      "  .apply(lambda x: x.ffill().bfill())\n"
     ]
    },
    {
     "name": "stdout",
     "output_type": "stream",
     "text": [
      "7\n"
     ]
    },
    {
     "name": "stderr",
     "output_type": "stream",
     "text": [
      "/var/folders/rz/zcgcqm0x1bl9cj8slq9l2s1c0000gn/T/ipykernel_79881/1277882565.py:31: FutureWarning: Downcasting object dtype arrays on .fillna, .ffill, .bfill is deprecated and will change in a future version. Call result.infer_objects(copy=False) instead. To opt-in to the future behavior, set `pd.set_option('future.no_silent_downcasting', True)`\n",
      "  .apply(lambda x: x.ffill().bfill())\n"
     ]
    },
    {
     "name": "stdout",
     "output_type": "stream",
     "text": [
      "8\n"
     ]
    },
    {
     "name": "stderr",
     "output_type": "stream",
     "text": [
      "/var/folders/rz/zcgcqm0x1bl9cj8slq9l2s1c0000gn/T/ipykernel_79881/1277882565.py:31: FutureWarning: Downcasting object dtype arrays on .fillna, .ffill, .bfill is deprecated and will change in a future version. Call result.infer_objects(copy=False) instead. To opt-in to the future behavior, set `pd.set_option('future.no_silent_downcasting', True)`\n",
      "  .apply(lambda x: x.ffill().bfill())\n"
     ]
    },
    {
     "name": "stdout",
     "output_type": "stream",
     "text": [
      "9\n"
     ]
    }
   ],
   "source": [
    "# URL of the website to scrape\n",
    "base_athlete_url = \"https://www.olympedia.org/athletes\"\n",
    "\n",
    "SIZE = 10\n",
    "columns = ['Roles', 'Sex', 'Full name', 'Used name', 'Born', 'Died', 'NOC']\n",
    "output = pd.DataFrame(columns=columns)\n",
    "results = pd.DataFrame()\n",
    "for i in range(1,SIZE):\n",
    "    print(i)\n",
    "    time.sleep(random.random()*2)\n",
    "    # Send a GET request to the website\n",
    "    athlete_url = f\"{base_athlete_url}/{i}\"\n",
    "    response = requests.get(athlete_url, timeout=60)\n",
    "\n",
    "    # Check if the request was successful\n",
    "    if response.status_code == 200:\n",
    "        # Parse the HTML content using BeautifulSoup\n",
    "        soup = BeautifulSoup(response.content, \"html.parser\")\n",
    "\n",
    "        # TODO: Write your scraping logic here\n",
    "        df = get_athlete_dict(soup)\n",
    "        output = pd.concat([output,df])\n",
    "\n",
    "        result = get_athlete_results(soup)\n",
    "        results = pd.concat([results, result])\n",
    "\n",
    "    else:\n",
    "        print(\"Failed to retrieve the webpage. Status code:\", response.status_code)"
   ]
  },
  {
   "cell_type": "code",
   "execution_count": 105,
   "metadata": {},
   "outputs": [
    {
     "data": {
      "text/html": [
       "<div>\n",
       "<style scoped>\n",
       "    .dataframe tbody tr th:only-of-type {\n",
       "        vertical-align: middle;\n",
       "    }\n",
       "\n",
       "    .dataframe tbody tr th {\n",
       "        vertical-align: top;\n",
       "    }\n",
       "\n",
       "    .dataframe thead th {\n",
       "        text-align: right;\n",
       "    }\n",
       "</style>\n",
       "<table border=\"1\" class=\"dataframe\">\n",
       "  <thead>\n",
       "    <tr style=\"text-align: right;\">\n",
       "      <th></th>\n",
       "      <th>Games</th>\n",
       "      <th>NOC / Team</th>\n",
       "      <th>Pos</th>\n",
       "      <th>Medal</th>\n",
       "      <th>As</th>\n",
       "      <th>Discipline (Sport)</th>\n",
       "      <th>Event</th>\n",
       "    </tr>\n",
       "  </thead>\n",
       "  <tbody>\n",
       "    <tr>\n",
       "      <th>0</th>\n",
       "      <td>1912 Summer Olympics</td>\n",
       "      <td>FRA</td>\n",
       "      <td>=17</td>\n",
       "      <td>NaN</td>\n",
       "      <td>Jean-François Blanchy</td>\n",
       "      <td>Tennis</td>\n",
       "      <td>Singles, Men (Olympic)</td>\n",
       "    </tr>\n",
       "    <tr>\n",
       "      <th>1</th>\n",
       "      <td>1920 Summer Olympics</td>\n",
       "      <td>Jean Montariol</td>\n",
       "      <td>DNS</td>\n",
       "      <td>NaN</td>\n",
       "      <td>Jean-François Blanchy</td>\n",
       "      <td>Doubles, Men (Olympic)</td>\n",
       "      <td>Tennis</td>\n",
       "    </tr>\n",
       "    <tr>\n",
       "      <th>2</th>\n",
       "      <td>NaN</td>\n",
       "      <td>Jeanne Vaussard</td>\n",
       "      <td>=32</td>\n",
       "      <td>NaN</td>\n",
       "      <td>NaN</td>\n",
       "      <td>Singles, Men (Olympic)</td>\n",
       "      <td>Doubles, Mixed (Olympic)</td>\n",
       "    </tr>\n",
       "    <tr>\n",
       "      <th>3</th>\n",
       "      <td>NaN</td>\n",
       "      <td>Jacques Brugnon</td>\n",
       "      <td>4</td>\n",
       "      <td>NaN</td>\n",
       "      <td>NaN</td>\n",
       "      <td>Doubles, Men (Olympic)</td>\n",
       "      <td>NaN</td>\n",
       "    </tr>\n",
       "    <tr>\n",
       "      <th>0</th>\n",
       "      <td>1996 Summer Olympics</td>\n",
       "      <td>FRA</td>\n",
       "      <td>=17</td>\n",
       "      <td>NaN</td>\n",
       "      <td>Arnaud Boetsch</td>\n",
       "      <td>Tennis</td>\n",
       "      <td>Singles, Men (Olympic)</td>\n",
       "    </tr>\n",
       "  </tbody>\n",
       "</table>\n",
       "</div>"
      ],
      "text/plain": [
       "                  Games       NOC / Team  Pos Medal                     As  \\\n",
       "0  1912 Summer Olympics              FRA  =17   NaN  Jean-François Blanchy   \n",
       "1  1920 Summer Olympics   Jean Montariol  DNS   NaN  Jean-François Blanchy   \n",
       "2                   NaN  Jeanne Vaussard  =32   NaN                    NaN   \n",
       "3                   NaN  Jacques Brugnon    4   NaN                    NaN   \n",
       "0  1996 Summer Olympics              FRA  =17   NaN         Arnaud Boetsch   \n",
       "\n",
       "       Discipline (Sport)                     Event  \n",
       "0                  Tennis    Singles, Men (Olympic)  \n",
       "1  Doubles, Men (Olympic)                    Tennis  \n",
       "2  Singles, Men (Olympic)  Doubles, Mixed (Olympic)  \n",
       "3  Doubles, Men (Olympic)                       NaN  \n",
       "0                  Tennis    Singles, Men (Olympic)  "
      ]
     },
     "execution_count": 105,
     "metadata": {},
     "output_type": "execute_result"
    }
   ],
   "source": [
    "results.head()"
   ]
  },
  {
   "cell_type": "code",
   "execution_count": 65,
   "metadata": {},
   "outputs": [],
   "source": [
    "output.to_csv('sample_data.csv')"
   ]
  },
  {
   "cell_type": "code",
   "execution_count": 67,
   "metadata": {},
   "outputs": [
    {
     "name": "stdout",
     "output_type": "stream",
     "text": [
      "<class 'pandas.core.frame.DataFrame'>\n",
      "RangeIndex: 237 entries, 0 to 236\n",
      "Data columns (total 16 columns):\n",
      " #   Column         Non-Null Count  Dtype          \n",
      "---  ------         --------------  -----          \n",
      " 0   Unnamed: 0     237 non-null    int64[pyarrow] \n",
      " 1   Roles          237 non-null    string[pyarrow]\n",
      " 2   Sex            237 non-null    string[pyarrow]\n",
      " 3   Full name      237 non-null    string[pyarrow]\n",
      " 4   Used name      237 non-null    string[pyarrow]\n",
      " 5   Born           228 non-null    string[pyarrow]\n",
      " 6   Died           96 non-null     string[pyarrow]\n",
      " 7   NOC            237 non-null    string[pyarrow]\n",
      " 8   Measurements   124 non-null    string[pyarrow]\n",
      " 9   Affiliations   132 non-null    string[pyarrow]\n",
      " 10  Nick/petnames  20 non-null     string[pyarrow]\n",
      " 11  Title(s)       4 non-null      string[pyarrow]\n",
      " 12  Other names    20 non-null     string[pyarrow]\n",
      " 13  Nationality    4 non-null      string[pyarrow]\n",
      " 14  Original name  31 non-null     string[pyarrow]\n",
      " 15  Name order     15 non-null     string[pyarrow]\n",
      "dtypes: int64[pyarrow](1), string[pyarrow](15)\n",
      "memory usage: 56.0 KB\n"
     ]
    }
   ],
   "source": [
    "df = pd.read_csv('sample_data.csv', dtype_backend='pyarrow')\n",
    "df.info()"
   ]
  },
  {
   "cell_type": "code",
   "execution_count": null,
   "metadata": {},
   "outputs": [],
   "source": []
  }
 ],
 "metadata": {
  "kernelspec": {
   "display_name": "Python 3",
   "language": "python",
   "name": "python3"
  },
  "language_info": {
   "codemirror_mode": {
    "name": "ipython",
    "version": 3
   },
   "file_extension": ".py",
   "mimetype": "text/x-python",
   "name": "python",
   "nbconvert_exporter": "python",
   "pygments_lexer": "ipython3",
   "version": "3.11.7"
  }
 },
 "nbformat": 4,
 "nbformat_minor": 2
}
